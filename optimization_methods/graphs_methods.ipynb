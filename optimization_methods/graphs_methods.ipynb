{
 "cells": [
  {
   "cell_type": "markdown",
   "id": "51bd9013",
   "metadata": {},
   "source": [
    "### Матрица путей/Путь заданной и произвольной длины"
   ]
  },
  {
   "cell_type": "code",
   "execution_count": 21,
   "id": "0da2ebd7",
   "metadata": {},
   "outputs": [],
   "source": [
    "import numpy as np\n",
    "from numpy.linalg import matrix_power"
   ]
  },
  {
   "cell_type": "code",
   "execution_count": 24,
   "id": "8e0757cf",
   "metadata": {},
   "outputs": [],
   "source": [
    "def is_path_i_j_size_n(a: np.array, i: int, j: int, n: int) -> bool:\n",
    "    result = matrix_power(a, n)\n",
    "    return bool(result[i][j])"
   ]
  },
  {
   "cell_type": "code",
   "execution_count": 25,
   "id": "10762d85",
   "metadata": {},
   "outputs": [],
   "source": [
    "def is_path_i_j_any(a: list, i: int, j: int) -> bool:\n",
    "    result = a.copy()\n",
    "    n = len(a)\n",
    "    k = 1\n",
    "    while k <= n:\n",
    "        if result[i][j]:\n",
    "            return True\n",
    "        result = result @ a\n",
    "        k += 1\n",
    "    return False"
   ]
  },
  {
   "cell_type": "code",
   "execution_count": 26,
   "id": "c3e2ecce",
   "metadata": {},
   "outputs": [],
   "source": [
    "a = np.array(\n",
    "    [[0, 0, 1, 0],\n",
    "    [1, 0, 0, 0],\n",
    "    [0, 1, 0, 1],\n",
    "    [1, 0, 0, 0]\n",
    "]\n",
    ")"
   ]
  },
  {
   "cell_type": "code",
   "execution_count": 27,
   "id": "d148d045",
   "metadata": {},
   "outputs": [
    {
     "data": {
      "text/plain": [
       "False"
      ]
     },
     "execution_count": 27,
     "metadata": {},
     "output_type": "execute_result"
    }
   ],
   "source": [
    "is_path_i_j_size_n(a, 0, 3, 3)"
   ]
  },
  {
   "cell_type": "code",
   "execution_count": 28,
   "id": "4bbd4fbb",
   "metadata": {},
   "outputs": [
    {
     "data": {
      "text/plain": [
       "True"
      ]
     },
     "execution_count": 28,
     "metadata": {},
     "output_type": "execute_result"
    }
   ],
   "source": [
    "is_path_i_j_any(a, 0, 0)"
   ]
  },
  {
   "cell_type": "markdown",
   "id": "0fdd8dd7",
   "metadata": {},
   "source": [
    "### Алгоритм Дейкстры"
   ]
  },
  {
   "cell_type": "code",
   "execution_count": 26,
   "id": "4acec16f",
   "metadata": {},
   "outputs": [],
   "source": [
    "adj_matrix = [\n",
    "    [ 5,  3, 12,  5,  3, 14],\n",
    "    [ 0,  1, 16, 16,  3, 19],\n",
    "    [ 0, 12,  8, 16, 12, 10],\n",
    "    [ 8,  5,  2, 15,  4, 19],\n",
    "    [ 8, 18, 11,  9, 13,  3],\n",
    "    [11,  0, 13, 17, 10, 12]\n",
    "]"
   ]
  },
  {
   "cell_type": "code",
   "execution_count": 27,
   "id": "a214f192",
   "metadata": {},
   "outputs": [],
   "source": [
    "def dijkstra(adj_matrix: list, v: int) -> list:\n",
    "    n = len(adj_matrix)\n",
    "    d = [float('inf') for _ in range(n)]\n",
    "    used = [0 for _ in range(n)]\n",
    "    prev = [-1 for _ in range(n)]\n",
    "    d[v] = 0\n",
    "    while True:\n",
    "        v, cur_d = None, float('inf')\n",
    "        for u in range(n):\n",
    "            if not used[u] and d[u] < cur_d:\n",
    "                v, cur_d = u, d[u]\n",
    "        if v is None or cur_d == float('inf'):\n",
    "            break\n",
    "        used[v] = 1\n",
    "        for u in range(n):\n",
    "            if adj_matrix[v][u] and d[u] > d[v] + adj_matrix[v][u]:\n",
    "                d[u] = d[v] + adj_matrix[v][u]\n",
    "                prev[u] = v\n",
    "    d = [-1 if dist == float('inf') else dist for dist in d]\n",
    "    return prev, d"
   ]
  },
  {
   "cell_type": "code",
   "execution_count": 28,
   "id": "26cdac7c",
   "metadata": {},
   "outputs": [
    {
     "data": {
      "text/plain": [
       "([-1, 0, 3, 0, 0, 4], [0, 3, 7, 5, 3, 6])"
      ]
     },
     "execution_count": 28,
     "metadata": {},
     "output_type": "execute_result"
    }
   ],
   "source": [
    "dijkstra(adj_matrix, 0)"
   ]
  },
  {
   "cell_type": "code",
   "execution_count": 29,
   "id": "6480378e",
   "metadata": {},
   "outputs": [],
   "source": [
    "def dijkstra_path_restore(prev, d, j):\n",
    "    if d[j] == -1:\n",
    "        return []\n",
    "    path = [j]\n",
    "    while prev[j] != -1:\n",
    "        path.append(prev[j])\n",
    "        j = prev[j]\n",
    "    return path[::-1]"
   ]
  },
  {
   "cell_type": "code",
   "execution_count": 30,
   "id": "a884c0d1",
   "metadata": {},
   "outputs": [
    {
     "data": {
      "text/plain": [
       "[0, 4, 5]"
      ]
     },
     "execution_count": 30,
     "metadata": {},
     "output_type": "execute_result"
    }
   ],
   "source": [
    "dijkstra_path_restore(*dijkstra(adj_matrix, 0), 5)"
   ]
  },
  {
   "cell_type": "markdown",
   "id": "5c0d2c53",
   "metadata": {},
   "source": [
    "### Алгоритм Краскала"
   ]
  },
  {
   "cell_type": "code",
   "execution_count": 5,
   "id": "782a76f9",
   "metadata": {},
   "outputs": [
    {
     "name": "stdout",
     "output_type": "stream",
     "text": [
      "0 -- 2: 5\n",
      "3 -- 4: 7\n",
      "0 -- 1: 8\n",
      "2 -- 4: 10\n"
     ]
    }
   ],
   "source": [
    "class Graph:\n",
    "    def __init__(self, vertices):\n",
    "        self.V = vertices\n",
    "        self.graph = []\n",
    "\n",
    "    def add_edge(self, u, v, w):\n",
    "        self.graph.append([u,v,w])\n",
    "\n",
    "    def find(self, parent, i):\n",
    "        if parent[i] == i:\n",
    "            return i\n",
    "        return self.find(parent, parent[i])\n",
    "\n",
    "    def apply_union(self, parent, rank, x, y):\n",
    "        xroot = self.find(parent, x)\n",
    "        yroot = self.find(parent, y)\n",
    "        if rank[xroot] < rank[yroot]:\n",
    "            parent[xroot] = yroot\n",
    "        elif rank[xroot] > rank[yroot]:\n",
    "            parent[yroot] = xroot\n",
    "        else:\n",
    "            parent[yroot] = xroot\n",
    "            rank[xroot] +=1\n",
    "\n",
    "    def kruskal(self):\n",
    "        result = []\n",
    "        i, e = 0, 0\n",
    "        self.graph = sorted(self.graph, key=lambda item: item[2])\n",
    "        parent = []\n",
    "        rank = []\n",
    "        \n",
    "        for node in range(self.V):\n",
    "            parent.append(node)\n",
    "            rank.append(0)\n",
    "\n",
    "        while e < self.V - 1:\n",
    "            u, v, w = self.graph[i]\n",
    "            i = i+1\n",
    "            x = self.find(parent, u)\n",
    "            y = self.find(parent, v)\n",
    "\n",
    "            if x != y:\n",
    "                e = e + 1\n",
    "                result.append([u, v, w])\n",
    "                self.apply_union(parent, rank, x, y)\n",
    "\n",
    "        for u, v , weight in result:\n",
    "            print(f'{u} -- {v}: {weight}')\n",
    "\n",
    "g = Graph(5)\n",
    "g.add_edge(0, 1, 8)\n",
    "g.add_edge(0, 2, 5)\n",
    "g.add_edge(1, 2, 9)\n",
    "g.add_edge(1, 3, 11)\n",
    "g.add_edge(2, 3, 15)\n",
    "g.add_edge(2, 4, 10)\n",
    "g.add_edge(3, 4, 7)\n",
    "g.kruskal()"
   ]
  },
  {
   "cell_type": "code",
   "execution_count": null,
   "id": "9fb2ebb8",
   "metadata": {},
   "outputs": [],
   "source": []
  }
 ],
 "metadata": {
  "kernelspec": {
   "display_name": "Python 3",
   "language": "python",
   "name": "python3"
  },
  "language_info": {
   "codemirror_mode": {
    "name": "ipython",
    "version": 3
   },
   "file_extension": ".py",
   "mimetype": "text/x-python",
   "name": "python",
   "nbconvert_exporter": "python",
   "pygments_lexer": "ipython3",
   "version": "3.8.8"
  }
 },
 "nbformat": 4,
 "nbformat_minor": 5
}
